{
 "cells": [
  {
   "cell_type": "markdown",
   "metadata": {},
   "source": [
    "# Reading and visualising Wada data\n",
    "The goal of this program is to read the data, pre-process it using a bandpass filter and re-referencing, extract the feature we are interested in (signal diversity) and visualise it."
   ]
  },
  {
   "cell_type": "markdown",
   "metadata": {},
   "source": [
    "\n",
    "## Importing required Python modules\n",
    "We will be using MNE for EEG analysis, numpy and pandas for data structures, seaborn for visualisation and code provided by Michael Schartner [1] for calculating our signal diversity measure (Lempel-Ziv Complexity)."
   ]
  },
  {
   "cell_type": "code",
   "execution_count": null,
   "metadata": {},
   "outputs": [],
   "source": [
    "import mne\n",
    "import numpy as np\n",
    "import pandas as pd\n",
    "import seaborn as sns\n",
    "import LZ_Spectral"
   ]
  },
  {
   "cell_type": "markdown",
   "metadata": {},
   "source": [
    "## Importing and pre-processing\n",
    "### Reading the data\n",
    "The data is stored as an EEGLAB set which can be read using a method provided with MNE. The boundary events are due to artifact removal."
   ]
  },
  {
   "cell_type": "code",
   "execution_count": null,
   "metadata": {},
   "outputs": [],
   "source": [
    "raw = mne.io.read_raw_eeglab('patient1.set', preload = True)"
   ]
  },
  {
   "cell_type": "markdown",
   "metadata": {},
   "source": [
    "### Bandpass filtering\n",
    "This is an optional step. The band could also be modified to focus on a particular frequency range. E.g. alpha, beta, etc."
   ]
  },
  {
   "cell_type": "code",
   "execution_count": null,
   "metadata": {},
   "outputs": [],
   "source": [
    "raw = raw.filter(l_freq=0.1, h_freq=45)"
   ]
  },
  {
   "cell_type": "markdown",
   "metadata": {},
   "source": [
    "### Re-referencing\n",
    "Originally the data were recorded with references behind the ears. Here we decide to re-ference to electrodes near the midline to minimise volume conduction effects. The electrodes on the left hemisphere (odd numbers) will be re-referenced to A1, the electrodes on the right hemisphere (even numbers) to A2. We will also discard all electrodes on the midline (Fz, Cz, etc.). "
   ]
  },
  {
   "cell_type": "code",
   "execution_count": null,
   "metadata": {},
   "outputs": [],
   "source": [
    "lh_labels = ['Fp1', 'F7', 'T7', 'P7', 'O1', 'F3', 'C3', 'P3', 'A1']  \n",
    "raw_lh = raw.copy();\n",
    "raw_lh.pick_channels(lh_labels)\n",
    "raw_lh.set_eeg_reference(ref_channels=['A1'])\n",
    "lh_labels = ['Fp1', 'F7', 'T7', 'P7', 'O1', 'F3', 'C3', 'P3']\n",
    "raw_lh.pick_channels(lh_labels)\n",
    "\n",
    "rh_labels = ['Fp2', 'F8', 'T8', 'P8', 'O2', 'F4', 'C4', 'P4', 'A2']  \n",
    "raw_rh = raw.copy()\n",
    "raw_rh.pick_channels(rh_labels)\n",
    "raw_rh.set_eeg_reference(ref_channels=['A2'])\n",
    "rh_labels = ['Fp2', 'F8', 'T8', 'P8', 'O2', 'F4', 'C4', 'P4']\n",
    "raw_rh.pick_channels(rh_labels)"
   ]
  },
  {
   "cell_type": "markdown",
   "metadata": {},
   "source": [
    "### Selecting the segment of interest and epoching\n",
    "The raw data is almost an hour long. We are primarily interested in the time before the injection of the drug and the first two minutes after the effects of the drug start (about 30s after injection; see Figure 1A in [2]). The injection time point (829s into the recording) is contained in the text file provided with the data. The file also contains the time at which the clinician determined all the effects of the drug had stopped and the timepoints of a second injection. We will use only the data from the first injection. We will also assign an ID to the participant and to the frequency band we filtered to. These values are not strictly necessary in the current analysis but would be useful if several participants and bands are analysed. The segment length could also be modified, we will use 6s (see [3] for a discussion of segment length).\n",
    "\n",
    "We will first crop the data to the time around the injection we are interested in. Then we will generate fixed length events at intervals of half the segment length for 50% overlap. Finally we epoch the data."
   ]
  },
  {
   "cell_type": "code",
   "execution_count": null,
   "metadata": {},
   "outputs": [],
   "source": [
    "myTimeSegment = 120\n",
    "myTimeToExclude = 30\n",
    "mySegmentLength = 6\n",
    "myWadaTimepoint = 829\n",
    "myParticipantNumber = 1\n",
    "myBandName = 'broad'\n",
    "\n",
    "# 1. Cropping to segment of interest\n",
    "\n",
    "leftRest = raw_lh.copy().crop(myWadaTimepoint - myTimeSegment, myWadaTimepoint)\n",
    "leftWada = raw_lh.copy().crop(myWadaTimepoint + myTimeToExclude, myWadaTimepoint + myTimeToExclude + myTimeSegment)\n",
    "\n",
    "rightRest = raw_rh.copy().crop(myWadaTimepoint - myTimeSegment, myWadaTimepoint)\n",
    "rightWada = raw_rh.copy().crop(myWadaTimepoint + myTimeToExclude, myWadaTimepoint + myTimeToExclude + myTimeSegment)\n",
    "\n",
    "# 2. Generating the fixed length events at intervals of half the length we want to extract (for 50% overlap)\n",
    "\n",
    "myEventsLR = mne.make_fixed_length_events(leftRest, 1, duration=mySegmentLength / 2) \n",
    "myEventsLW = mne.make_fixed_length_events(leftWada, 1, duration=mySegmentLength / 2) \n",
    "\n",
    "myEventsRR = mne.make_fixed_length_events(rightRest, 1, duration=mySegmentLength / 2)  \n",
    "myEventsRW = mne.make_fixed_length_events(rightWada, 1, duration=mySegmentLength / 2)  \n",
    "\n",
    "# 3. Epoching of the data based on the events\n",
    "\n",
    "leftRestEpochs = mne.Epochs(leftRest, events=myEventsLR, tmin=0, tmax=mySegmentLength, baseline=None)\n",
    "leftWadaEpochs = mne.Epochs(leftWada, events=myEventsLW, tmin=0, tmax=mySegmentLength, baseline=None)\n",
    "\n",
    "rightRestEpochs = mne.Epochs(rightRest, events=myEventsRR, tmin=0, tmax=mySegmentLength, baseline=None)\n",
    "rightWadaEpochs = mne.Epochs(rightWada, events=myEventsRW, tmin=0, tmax=mySegmentLength, baseline=None)"
   ]
  },
  {
   "cell_type": "markdown",
   "metadata": {},
   "source": [
    "## Feature extraction\n",
    "### Computing the features\n",
    "In this example we will only compute signal diversity on a channel-wise basis. We will create several lists that contain information about each segment. If we were to compute several different measures (e.g. other signal diversity measures, spectral or connectivity) we could use this to identify them. The most important value in the current example bis the condition and the hemisphere. Our goal is to compare the hemispheres before and after the injection of the drug and between hemispheres during the injection of the drug. There are many other ways to approach this step so feel free to adapt it to your preferences."
   ]
  },
  {
   "cell_type": "code",
   "execution_count": null,
   "metadata": {},
   "outputs": [],
   "source": [
    "myCompVal = []\n",
    "myCompType = []\n",
    "myParticipant = []\n",
    "myCondition = []\n",
    "myHemisphere = []\n",
    "myBand = []\n",
    "myEpoch = []\n",
    "mySegLength = []\n",
    "myChannelName = []\n",
    "\n",
    "for epNum, ep in enumerate(leftRestEpochs[:]):\n",
    "    for chNum, ch in enumerate(ep[:]):\n",
    "        myCompVal.append(LZ_Spectral.LZs(ch))\n",
    "        myChannelName.append(leftRestEpochs.ch_names[chNum])\n",
    "        myCompType.append('LZs')\n",
    "        myParticipant.append(str(myParticipantNumber))\n",
    "        myHemisphere.append('L')\n",
    "        myCondition.append('R')\n",
    "        myBand.append(myBandName)\n",
    "        mySegLength.append(str(mySegmentLength))\n",
    "        myEpoch.append(str(epNum))\n",
    "        \n",
    "for epNum, ep in enumerate(leftWadaEpochs[:]):\n",
    "    for chNum, ch in enumerate(ep[:]):\n",
    "        myCompVal.append(LZ_Spectral.LZs(ch))\n",
    "        myChannelName.append(leftWadaEpochs.ch_names[chNum])\n",
    "        myCompType.append('LZs')\n",
    "        myParticipant.append(str(myParticipantNumber))\n",
    "        myHemisphere.append('L')\n",
    "        myCondition.append('W')\n",
    "        myBand.append(myBandName)\n",
    "        mySegLength.append(str(mySegmentLength))\n",
    "        myEpoch.append(str(epNum)) \n",
    "\n",
    "for epNum, ep in enumerate(rightRestEpochs[:]):\n",
    "    for chNum, ch in enumerate(ep[:]):\n",
    "        myCompVal.append(LZ_Spectral.LZs(ch))\n",
    "        myChannelName.append(rightRestEpochs.ch_names[chNum])\n",
    "        myCompType.append('LZs')\n",
    "        myParticipant.append(str(myParticipantNumber))\n",
    "        myHemisphere.append('R')\n",
    "        myCondition.append('R')\n",
    "        myBand.append(myBandName)\n",
    "        mySegLength.append(str(mySegmentLength))\n",
    "        myEpoch.append(str(epNum))\n",
    "        \n",
    "for epNum, ep in enumerate(rightWadaEpochs[:]):\n",
    "    for chNum, ch in enumerate(ep[:]):\n",
    "        myCompVal.append(LZ_Spectral.LZs(ch))\n",
    "        myChannelName.append(rightWadaEpochs.ch_names[chNum])\n",
    "        myCompType.append('LZs')\n",
    "        myParticipant.append(str(myParticipantNumber))\n",
    "        myHemisphere.append('R')\n",
    "        myCondition.append('W')\n",
    "        myBand.append(myBandName)\n",
    "        mySegLength.append(str(mySegmentLength))\n",
    "        myEpoch.append(str(epNum))         "
   ]
  },
  {
   "cell_type": "markdown",
   "metadata": {},
   "source": [
    "### Conversion to Pandas data frame\n",
    "This is also a step that may be accomplished in very many ways based on your preference. I chose to convert the data to a Pandas data frame."
   ]
  },
  {
   "cell_type": "code",
   "execution_count": null,
   "metadata": {},
   "outputs": [],
   "source": [
    "myAll = np.concatenate([myCompVal, myChannelName, myCompType, myParticipant, myHemisphere, myCondition, myBand, mySegLength, myEpoch])\n",
    "\n",
    "myAll = myAll.reshape((9, len(myCompVal)))\n",
    "myAll = np.transpose(myAll)\n",
    "\n",
    "df = pd.DataFrame(myAll, columns=['Signal Diversity', 'Channel', 'Method', 'Participant', 'Hemisphere', 'Condition', 'Band', 'Segment','Epoch'])\n",
    "df[\"Signal Diversity\"] = df[\"Signal Diversity\"].astype('float64')\n",
    "df[\"Channel\"] = df[\"Channel\"].astype('category')\n",
    "df[\"Method\"] = df[\"Method\"].astype('category')\n",
    "df[\"Participant\"] = df[\"Participant\"].astype('category')\n",
    "df[\"Hemisphere\"] = df[\"Hemisphere\"].astype('category')\n",
    "df[\"Condition\"] = df[\"Condition\"].astype('category')\n",
    "df[\"Band\"] = df[\"Band\"].astype('category')\n",
    "df[\"Segment\"] = df[\"Segment\"].astype('category')\n",
    "df[\"Epoch\"] = df[\"Epoch\"].astype('category')"
   ]
  },
  {
   "cell_type": "markdown",
   "metadata": {},
   "source": [
    "Below is a summary of the content."
   ]
  },
  {
   "cell_type": "code",
   "execution_count": null,
   "metadata": {},
   "outputs": [],
   "source": [
    "df.head"
   ]
  },
  {
   "cell_type": "markdown",
   "metadata": {},
   "source": [
    "## Visualisation\n",
    "### Visualising the data as a topography\n",
    "We want to inspect the data as a scalp topography. We can use MNE to make a standard montage for the channels that we selected. We then iterate over the channels to extract the data in the sequence they are contained in the montage. This step is required because the order of the channels in the data frame and the montage differs. So we need to make sure we put the correct values in the correct locations. I chose to use the median of the signal diversity values over the epochs we extracted. The colormap and value range can be adapted.\n",
    "\n",
    "The left hemisphere was injected in this case and we can observe a decrease in signal diversity as expected."
   ]
  },
  {
   "cell_type": "code",
   "execution_count": null,
   "metadata": {},
   "outputs": [],
   "source": [
    "montage = mne.channels.make_standard_montage('standard_1005')\n",
    "info = mne.create_info(df['Channel'].unique().tolist(), 1, 'eeg').set_montage(montage)\n",
    "\n",
    "myTopoRest = np.zeros((16))\n",
    "myTopoWada = np.zeros((16))\n",
    "\n",
    "for chNum,ch in enumerate(info['ch_names']):\n",
    "    myTopoRest[chNum] = df.query(\"Condition == 'R' and Channel == '\" + ch + \"'\").median()['Signal Diversity']\n",
    "    myTopoWada[chNum] = df.query(\"Condition == 'W' and Channel == '\" + ch + \"'\").median()['Signal Diversity']\n",
    "\n",
    "\n",
    "mne.viz.plot_topomap(myTopoRest, pos=info,  cmap='Spectral_r', vmin=0.5, vmax=0.75)\n",
    "mne.viz.plot_topomap(myTopoWada, pos=info,  cmap='Spectral_r', vmin=0.5, vmax=0.75)"
   ]
  },
  {
   "cell_type": "markdown",
   "metadata": {},
   "source": [
    "### Visualisation as boxplot\n",
    "Again there are very many options to do this. I am a fan of the seaborn module and use this implementation of a boxplot. It works nicely with the pandas data frame. The despining is optional and can be omitted. \n",
    "\n",
    "Again we can observe that the values drop on the left hemisphere (injected) and less so on the right hemisphere (normal). "
   ]
  },
  {
   "cell_type": "code",
   "execution_count": null,
   "metadata": {},
   "outputs": [],
   "source": [
    "sns.boxplot(x='Hemisphere', y='Signal Diversity', hue='Condition', data=df, fliersize=0)\n",
    "sns.despine(offset=10, trim=True);"
   ]
  },
  {
   "cell_type": "markdown",
   "metadata": {},
   "source": [
    "## Conclusions\n",
    "This analysis could be augmented in many ways but that is beyond the scope of this workshop. Have a look at [2] for the analysis that we did.\n",
    "\n",
    "The data can be accessed via this link:\n",
    "\n",
    "https://osf.io/fhk6y/?view_only=a05e1d9b593c4beb927976f5d701e996"
   ]
  },
  {
   "cell_type": "markdown",
   "metadata": {},
   "source": [
    "[1] Schartner, M. M., Carhart-Harris, R. L., Barrett, A. B., Seth, A. K., & Muthukumaraswamy, S. D. (2017). Increased spontaneous MEG signal diversity for psychoactive doses of ketamine, LSD and psilocybin. Scientific reports, 7(1), 1-12.\n",
    "\n",
    "[2] Halder, S., Juel, B. E., Nilsen, A. S., Raghavan, L. V., & Storm, J. F. (2021). Changes in measures of consciousness during anaesthesia of one hemisphere (Wada test). NeuroImage, 226, 117566.\n",
    "\n",
    "[3] Schartner, M., Seth, A., Noirhomme, Q., Boly, M., Bruno, M. A., Laureys, S., & Barrett, A. (2015). Complexity of multi-dimensional spontaneous EEG decreases during propofol induced general anaesthesia. PloS one, 10(8), e0133532."
   ]
  }
 ],
 "metadata": {
  "kernelspec": {
   "display_name": "Python 3",
   "language": "python",
   "name": "python3"
  },
  "language_info": {
   "codemirror_mode": {
    "name": "ipython",
    "version": 3
   },
   "file_extension": ".py",
   "mimetype": "text/x-python",
   "name": "python",
   "nbconvert_exporter": "python",
   "pygments_lexer": "ipython3",
   "version": "3.7.3"
  }
 },
 "nbformat": 4,
 "nbformat_minor": 4
}
